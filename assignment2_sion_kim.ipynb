{
 "cells": [
  {
   "cell_type": "markdown",
   "id": "f721d424",
   "metadata": {},
   "source": [
    "# COMP-2231: Module 2 Assignment - Data Analysis with Pandas\n",
    "\n",
    "The purpose of this notebook is to complete the Module 2 assignment by **importing, exploring, cleaning, and transforming** the provided dataset using the Pandas library.\n",
    "\n",
    "**Student Info:**\n",
    "- **Name:** Sion Kim\n",
    "- **Student Number:** 0398774\n",
    "- **Date:** 2025-09-21\n",
    "\n",
    "**List:**\n",
    "1. [Task 2: Data Importing](#task2)\n",
    "2. [Task 3: Dataset Exploration](#task3)\n",
    "3. [Task 4: Data Cleaning](#task4)\n",
    "4. [Task 5: Data Type Conversions & Transformations](#task5)\n",
    "5. [Final Dataframe](#task6) "
   ]
  },
  {
   "cell_type": "markdown",
   "id": "a150ecf9",
   "metadata": {},
   "source": [
    "<a id=\"task2\"></a>\n",
    "## Task 2: Data Importing\n",
    "**Objective:** Load the dataset using Pandas and verify data integrity.\n",
    "\n",
    "1. [Load the dataset sample_data_assignment.csv using pd.read_csv()](#2.1)  \n",
    "2. [Display the first five rows using .head()](#2.2)  \n",
    "3. [The shape of the data set using .shape](#2.3)  \n",
    "4. [Print the column names, data types, and the amount of duplicate rows](#2.4)  \n",
    "5. [Save a copy of the dataset as an Excel file (.xlsx) using to_excel()](#2.5)  "
   ]
  },
  {
   "cell_type": "markdown",
   "id": "282fd23d",
   "metadata": {},
   "source": [
    "### 2.1\n",
    "Load the dataset sample_data_assignment.csv using pd.read_csv()"
   ]
  },
  {
   "cell_type": "code",
   "execution_count": 1,
   "id": "a4c1204d",
   "metadata": {},
   "outputs": [
    {
     "name": "stdout",
     "output_type": "stream",
     "text": [
      "Dataset Loaded Successfully\n"
     ]
    }
   ],
   "source": [
    "import pandas as pd\n",
    "\n",
    "# Load the dataset\n",
    "try:\n",
    "    df = pd.read_csv(\"Dataset_for_Module_2_Assignment.csv\")\n",
    "    print(\"Dataset Loaded Successfully\")\n",
    "except FileNotFoundError:\n",
    "    print(\"Error: File not found.\")\n",
    "except Exception as e:\n",
    "    print(f\"Error: {e}\")"
   ]
  },
  {
   "cell_type": "markdown",
   "id": "96645587",
   "metadata": {},
   "source": [
    "### 2.2\n",
    "Display the first five rows using .head()"
   ]
  },
  {
   "cell_type": "code",
   "execution_count": 2,
   "id": "1b1f20d4",
   "metadata": {},
   "outputs": [
    {
     "name": "stdout",
     "output_type": "stream",
     "text": [
      "First 5 Rows\n"
     ]
    },
    {
     "data": {
      "text/html": [
       "<div>\n",
       "<style scoped>\n",
       "    .dataframe tbody tr th:only-of-type {\n",
       "        vertical-align: middle;\n",
       "    }\n",
       "\n",
       "    .dataframe tbody tr th {\n",
       "        vertical-align: top;\n",
       "    }\n",
       "\n",
       "    .dataframe thead th {\n",
       "        text-align: right;\n",
       "    }\n",
       "</style>\n",
       "<table border=\"1\" class=\"dataframe\">\n",
       "  <thead>\n",
       "    <tr style=\"text-align: right;\">\n",
       "      <th></th>\n",
       "      <th>order_id</th>\n",
       "      <th>customer_name</th>\n",
       "      <th>order_date</th>\n",
       "      <th>total_amount</th>\n",
       "      <th>status</th>\n",
       "      <th>category</th>\n",
       "      <th>region</th>\n",
       "      <th>priority</th>\n",
       "    </tr>\n",
       "  </thead>\n",
       "  <tbody>\n",
       "    <tr>\n",
       "      <th>0</th>\n",
       "      <td>1000</td>\n",
       "      <td>Grace Lee</td>\n",
       "      <td>2022-12-27</td>\n",
       "      <td>290.94</td>\n",
       "      <td>shipped</td>\n",
       "      <td>Furniture</td>\n",
       "      <td>North</td>\n",
       "      <td>Medium</td>\n",
       "    </tr>\n",
       "    <tr>\n",
       "      <th>1</th>\n",
       "      <td>1001</td>\n",
       "      <td>David Wilson</td>\n",
       "      <td>2022-10-13</td>\n",
       "      <td>369.45</td>\n",
       "      <td>PENDING</td>\n",
       "      <td>furniture</td>\n",
       "      <td>North</td>\n",
       "      <td>Low</td>\n",
       "    </tr>\n",
       "    <tr>\n",
       "      <th>2</th>\n",
       "      <td>1002</td>\n",
       "      <td>Henry Martin</td>\n",
       "      <td>2022-09-30</td>\n",
       "      <td>649.46</td>\n",
       "      <td>PENDING</td>\n",
       "      <td>furniture</td>\n",
       "      <td>West</td>\n",
       "      <td>Low</td>\n",
       "    </tr>\n",
       "    <tr>\n",
       "      <th>3</th>\n",
       "      <td>1003</td>\n",
       "      <td>Emma Davis</td>\n",
       "      <td>2023-01-04</td>\n",
       "      <td>575.07</td>\n",
       "      <td>Pending</td>\n",
       "      <td>garden</td>\n",
       "      <td>East</td>\n",
       "      <td>Low</td>\n",
       "    </tr>\n",
       "    <tr>\n",
       "      <th>4</th>\n",
       "      <td>1004</td>\n",
       "      <td>Grace Lee</td>\n",
       "      <td>2022-03-03</td>\n",
       "      <td>362.54</td>\n",
       "      <td>Shipped</td>\n",
       "      <td>electronics</td>\n",
       "      <td>South</td>\n",
       "      <td>High</td>\n",
       "    </tr>\n",
       "  </tbody>\n",
       "</table>\n",
       "</div>"
      ],
      "text/plain": [
       "   order_id customer_name  order_date  total_amount    status     category  \\\n",
       "0      1000     Grace Lee  2022-12-27        290.94  shipped     Furniture   \n",
       "1      1001  David Wilson  2022-10-13        369.45   PENDING    furniture   \n",
       "2      1002  Henry Martin  2022-09-30        649.46   PENDING    furniture   \n",
       "3      1003    Emma Davis  2023-01-04        575.07   Pending       garden   \n",
       "4      1004     Grace Lee  2022-03-03        362.54   Shipped  electronics   \n",
       "\n",
       "  region priority  \n",
       "0  North   Medium  \n",
       "1  North      Low  \n",
       "2   West      Low  \n",
       "3   East      Low  \n",
       "4  South     High  "
      ]
     },
     "metadata": {},
     "output_type": "display_data"
    }
   ],
   "source": [
    "# Display the first 5 rows of the dataframe\n",
    "print(\"First 5 Rows\")\n",
    "display(df.head(5))"
   ]
  },
  {
   "cell_type": "markdown",
   "id": "e0a68a3b",
   "metadata": {},
   "source": [
    "### 2.3\n",
    "The shape of the data set using .shape"
   ]
  },
  {
   "cell_type": "code",
   "execution_count": 3,
   "id": "f4a40356",
   "metadata": {},
   "outputs": [
    {
     "name": "stdout",
     "output_type": "stream",
     "text": [
      "Shape of Dataset: (502, 8)\n"
     ]
    }
   ],
   "source": [
    "# Display the shape of the dataframe\n",
    "print(f\"Shape of Dataset: {df.shape}\")"
   ]
  },
  {
   "cell_type": "markdown",
   "id": "70b11641",
   "metadata": {},
   "source": [
    "### 2.4\n",
    "Print the column names, data types, and the amount of duplicate rows"
   ]
  },
  {
   "cell_type": "code",
   "execution_count": 4,
   "id": "ad9088d4",
   "metadata": {},
   "outputs": [
    {
     "name": "stdout",
     "output_type": "stream",
     "text": [
      "Column Names: ['order_id', 'customer_name', 'order_date', 'total_amount', 'status', 'category', 'region', 'priority']\n",
      "\n",
      "Data Types of Columns:\n",
      "order_id           int64\n",
      "customer_name     object\n",
      "order_date        object\n",
      "total_amount     float64\n",
      "status            object\n",
      "category          object\n",
      "region            object\n",
      "priority          object\n",
      "dtype: object\n",
      "\n",
      "Number of duplicate rows: 2\n"
     ]
    }
   ],
   "source": [
    "# Display the columns of the dataframe\n",
    "print(f\"Column Names: {df.columns.tolist()}\\n\")\n",
    "\n",
    "# Display the data types of the dataframe columns\n",
    "print(f\"Data Types of Columns:\\n{df.dtypes}\\n\")\n",
    "\n",
    "# Display the number of duplicate rows in the dataframe\n",
    "print(f\"Number of duplicate rows: {df.duplicated().sum()}\")"
   ]
  },
  {
   "cell_type": "markdown",
   "id": "ef803341",
   "metadata": {},
   "source": [
    "### 2.5\n",
    "Save a copy of the dataset as an Excel file (.xlsx) using to_excel()"
   ]
  },
  {
   "cell_type": "code",
   "execution_count": 5,
   "id": "d6400913",
   "metadata": {},
   "outputs": [
    {
     "name": "stdout",
     "output_type": "stream",
     "text": [
      "\n",
      "Dataset saved to 'Dataset_for_Module_2_Assignment.xlsx' as an Excel file.\n"
     ]
    }
   ],
   "source": [
    "# Save the raw dataset as an Excel file without the index\n",
    "df.to_excel('Dataset_for_Module_2_Assignment.xlsx', index=False)\n",
    "print(\"\\nDataset saved to 'Dataset_for_Module_2_Assignment.xlsx' as an Excel file.\")"
   ]
  },
  {
   "cell_type": "markdown",
   "id": "5137eedf",
   "metadata": {},
   "source": [
    "<a id=\"task3\"></a>\n",
    "## Task 3: Dataset Exploration \n",
    "**Objective:** Understand dataset structure before cleaning.\n",
    "\n",
    "1. [Use .info() and .describe() to summarize the dataset](#3.1)  \n",
    "2. [Identify missing values using .isna().sum()](#3.2)  \n",
    "3. [Find the number of unique values in the status and category columns using.nunique()](#3.3)  \n",
    "4. [Sort the dataset by total_amount in descending order using .sort_values()](#3.4)  "
   ]
  },
  {
   "cell_type": "markdown",
   "id": "3ee7e351",
   "metadata": {},
   "source": [
    "### 3.1\n",
    "Use .info() and .describe() to summarize the dataset"
   ]
  },
  {
   "cell_type": "code",
   "execution_count": 6,
   "id": "eaa4c372",
   "metadata": {},
   "outputs": [
    {
     "name": "stdout",
     "output_type": "stream",
     "text": [
      "Dataset Information:\n",
      "<class 'pandas.core.frame.DataFrame'>\n",
      "RangeIndex: 502 entries, 0 to 501\n",
      "Data columns (total 8 columns):\n",
      " #   Column         Non-Null Count  Dtype  \n",
      "---  ------         --------------  -----  \n",
      " 0   order_id       502 non-null    int64  \n",
      " 1   customer_name  502 non-null    object \n",
      " 2   order_date     502 non-null    object \n",
      " 3   total_amount   482 non-null    float64\n",
      " 4   status         502 non-null    object \n",
      " 5   category       502 non-null    object \n",
      " 6   region         502 non-null    object \n",
      " 7   priority       502 non-null    object \n",
      "dtypes: float64(1), int64(1), object(6)\n",
      "memory usage: 31.5+ KB\n",
      "\n",
      "Summary Statistics:\n"
     ]
    },
    {
     "data": {
      "text/html": [
       "<div>\n",
       "<style scoped>\n",
       "    .dataframe tbody tr th:only-of-type {\n",
       "        vertical-align: middle;\n",
       "    }\n",
       "\n",
       "    .dataframe tbody tr th {\n",
       "        vertical-align: top;\n",
       "    }\n",
       "\n",
       "    .dataframe thead th {\n",
       "        text-align: right;\n",
       "    }\n",
       "</style>\n",
       "<table border=\"1\" class=\"dataframe\">\n",
       "  <thead>\n",
       "    <tr style=\"text-align: right;\">\n",
       "      <th></th>\n",
       "      <th>order_id</th>\n",
       "      <th>total_amount</th>\n",
       "    </tr>\n",
       "  </thead>\n",
       "  <tbody>\n",
       "    <tr>\n",
       "      <th>count</th>\n",
       "      <td>502.000000</td>\n",
       "      <td>482.000000</td>\n",
       "    </tr>\n",
       "    <tr>\n",
       "      <th>mean</th>\n",
       "      <td>1249.027888</td>\n",
       "      <td>505.015851</td>\n",
       "    </tr>\n",
       "    <tr>\n",
       "      <th>std</th>\n",
       "      <td>144.387754</td>\n",
       "      <td>288.669519</td>\n",
       "    </tr>\n",
       "    <tr>\n",
       "      <th>min</th>\n",
       "      <td>1000.000000</td>\n",
       "      <td>14.590000</td>\n",
       "    </tr>\n",
       "    <tr>\n",
       "      <th>25%</th>\n",
       "      <td>1124.250000</td>\n",
       "      <td>242.165000</td>\n",
       "    </tr>\n",
       "    <tr>\n",
       "      <th>50%</th>\n",
       "      <td>1248.500000</td>\n",
       "      <td>509.260000</td>\n",
       "    </tr>\n",
       "    <tr>\n",
       "      <th>75%</th>\n",
       "      <td>1373.750000</td>\n",
       "      <td>751.877500</td>\n",
       "    </tr>\n",
       "    <tr>\n",
       "      <th>max</th>\n",
       "      <td>1499.000000</td>\n",
       "      <td>997.950000</td>\n",
       "    </tr>\n",
       "  </tbody>\n",
       "</table>\n",
       "</div>"
      ],
      "text/plain": [
       "          order_id  total_amount\n",
       "count   502.000000    482.000000\n",
       "mean   1249.027888    505.015851\n",
       "std     144.387754    288.669519\n",
       "min    1000.000000     14.590000\n",
       "25%    1124.250000    242.165000\n",
       "50%    1248.500000    509.260000\n",
       "75%    1373.750000    751.877500\n",
       "max    1499.000000    997.950000"
      ]
     },
     "execution_count": 6,
     "metadata": {},
     "output_type": "execute_result"
    }
   ],
   "source": [
    "# Display the information about the dataframe\n",
    "print(\"Dataset Information:\")\n",
    "df.info()\n",
    "\n",
    "# Display the summary statistics of the dataframe\n",
    "print(\"\\nSummary Statistics:\")\n",
    "df.describe()"
   ]
  },
  {
   "cell_type": "markdown",
   "id": "f0f8b491",
   "metadata": {},
   "source": [
    "### 3.2\n",
    "Identify missing values using .isna().sum()"
   ]
  },
  {
   "cell_type": "code",
   "execution_count": 7,
   "id": "c97fa345",
   "metadata": {},
   "outputs": [
    {
     "name": "stdout",
     "output_type": "stream",
     "text": [
      "Missing Values in Each Column:\n"
     ]
    },
    {
     "data": {
      "text/plain": [
       "order_id          0\n",
       "customer_name     0\n",
       "order_date        0\n",
       "total_amount     20\n",
       "status            0\n",
       "category          0\n",
       "region            0\n",
       "priority          0\n",
       "dtype: int64"
      ]
     },
     "execution_count": 7,
     "metadata": {},
     "output_type": "execute_result"
    }
   ],
   "source": [
    "# Display the number of missing values in each column\n",
    "print(\"Missing Values in Each Column:\")\n",
    "df.isna().sum()"
   ]
  },
  {
   "cell_type": "markdown",
   "id": "c8ac9307",
   "metadata": {},
   "source": [
    "### 3.3\n",
    "Find the number of unique values in the status and category columns using.nunique()"
   ]
  },
  {
   "cell_type": "code",
   "execution_count": 8,
   "id": "ebe22be3",
   "metadata": {},
   "outputs": [
    {
     "name": "stdout",
     "output_type": "stream",
     "text": [
      "Unique values in 'status' column: 8\n",
      "Unique values in 'category' column: 7\n"
     ]
    }
   ],
   "source": [
    "# Display the number of unique values in the 'status' and 'category' columns\n",
    "print(f\"Unique values in 'status' column: {df['status'].nunique()}\")\n",
    "print(f\"Unique values in 'category' column: {df['category'].nunique()}\")"
   ]
  },
  {
   "cell_type": "markdown",
   "id": "63fcdf7f",
   "metadata": {},
   "source": [
    "### 3.4\n",
    "Sort the dataset by total_amount in descending order using .sort_values()"
   ]
  },
  {
   "cell_type": "code",
   "execution_count": 9,
   "id": "901be233",
   "metadata": {},
   "outputs": [
    {
     "name": "stdout",
     "output_type": "stream",
     "text": [
      "Top 5 Rows Sorted by 'total_amount' in Descending Order:\n"
     ]
    },
    {
     "data": {
      "text/html": [
       "<div>\n",
       "<style scoped>\n",
       "    .dataframe tbody tr th:only-of-type {\n",
       "        vertical-align: middle;\n",
       "    }\n",
       "\n",
       "    .dataframe tbody tr th {\n",
       "        vertical-align: top;\n",
       "    }\n",
       "\n",
       "    .dataframe thead th {\n",
       "        text-align: right;\n",
       "    }\n",
       "</style>\n",
       "<table border=\"1\" class=\"dataframe\">\n",
       "  <thead>\n",
       "    <tr style=\"text-align: right;\">\n",
       "      <th></th>\n",
       "      <th>order_id</th>\n",
       "      <th>customer_name</th>\n",
       "      <th>order_date</th>\n",
       "      <th>total_amount</th>\n",
       "      <th>status</th>\n",
       "      <th>category</th>\n",
       "      <th>region</th>\n",
       "      <th>priority</th>\n",
       "    </tr>\n",
       "  </thead>\n",
       "  <tbody>\n",
       "    <tr>\n",
       "      <th>400</th>\n",
       "      <td>1398</td>\n",
       "      <td>Isabella White</td>\n",
       "      <td>2022-01-01</td>\n",
       "      <td>997.95</td>\n",
       "      <td>Cancelled</td>\n",
       "      <td>furniture</td>\n",
       "      <td>West</td>\n",
       "      <td>Low</td>\n",
       "    </tr>\n",
       "    <tr>\n",
       "      <th>193</th>\n",
       "      <td>1191</td>\n",
       "      <td>Grace Lee</td>\n",
       "      <td>2022-12-23</td>\n",
       "      <td>996.91</td>\n",
       "      <td>Pending</td>\n",
       "      <td>Furniture</td>\n",
       "      <td>West</td>\n",
       "      <td>High</td>\n",
       "    </tr>\n",
       "    <tr>\n",
       "      <th>450</th>\n",
       "      <td>1448</td>\n",
       "      <td>Alice Smith</td>\n",
       "      <td>2022-11-08</td>\n",
       "      <td>994.96</td>\n",
       "      <td>PENDING</td>\n",
       "      <td>GARDEN</td>\n",
       "      <td>East</td>\n",
       "      <td>High</td>\n",
       "    </tr>\n",
       "    <tr>\n",
       "      <th>434</th>\n",
       "      <td>1432</td>\n",
       "      <td>Jack Harris</td>\n",
       "      <td>2022-07-26</td>\n",
       "      <td>991.26</td>\n",
       "      <td>shipped</td>\n",
       "      <td>Furniture</td>\n",
       "      <td>West</td>\n",
       "      <td>Low</td>\n",
       "    </tr>\n",
       "    <tr>\n",
       "      <th>49</th>\n",
       "      <td>1049</td>\n",
       "      <td>Henry Martin</td>\n",
       "      <td>2022-08-11</td>\n",
       "      <td>990.06</td>\n",
       "      <td>PENDING</td>\n",
       "      <td>furniture</td>\n",
       "      <td>East</td>\n",
       "      <td>High</td>\n",
       "    </tr>\n",
       "  </tbody>\n",
       "</table>\n",
       "</div>"
      ],
      "text/plain": [
       "     order_id   customer_name  order_date  total_amount     status   category  \\\n",
       "400      1398  Isabella White  2022-01-01        997.95  Cancelled  furniture   \n",
       "193      1191       Grace Lee  2022-12-23        996.91    Pending  Furniture   \n",
       "450      1448     Alice Smith  2022-11-08        994.96    PENDING     GARDEN   \n",
       "434      1432     Jack Harris  2022-07-26        991.26   shipped   Furniture   \n",
       "49       1049    Henry Martin  2022-08-11        990.06    PENDING  furniture   \n",
       "\n",
       "    region priority  \n",
       "400   West      Low  \n",
       "193   West     High  \n",
       "450   East     High  \n",
       "434   West      Low  \n",
       "49    East     High  "
      ]
     },
     "metadata": {},
     "output_type": "display_data"
    }
   ],
   "source": [
    "# Display the top 5 rows sorted by 'total_amount' in descending order\n",
    "print(\"Top 5 Rows Sorted by 'total_amount' in Descending Order:\")\n",
    "display(df.sort_values(by='total_amount', ascending=False).head(5))"
   ]
  },
  {
   "cell_type": "markdown",
   "id": "0d60f532",
   "metadata": {},
   "source": [
    "<a id=\"task4\"></a>\n",
    "## Task 4: Data Cleaning\n",
    "**Objective:** Handle missing values, duplicates, and inconsistencies.\n",
    "\n",
    "1. [Remove duplicate rows using .drop_duplicates()](#4.1)  \n",
    "2. [Fill missing values in the total_amount column with the mean using .fillna()](#4.2)  \n",
    "3. [Convert the status column to lowercase and remove extra spaces using.str.lower().str.strip()](#4.3)  \n",
    "4. [Standardize the category column by replacing variations like \"GARDEN\" → \"Garden\" using .str.title()](#4.4)\n",
    "5. [Display the cleaned dataset’s first 5 rows to verify changes](#4.5) "
   ]
  },
  {
   "cell_type": "markdown",
   "id": "638fd248",
   "metadata": {},
   "source": [
    "### 4.1\n",
    "Remove duplicate rows using .drop_duplicates()"
   ]
  },
  {
   "cell_type": "code",
   "execution_count": 10,
   "id": "94117113",
   "metadata": {},
   "outputs": [
    {
     "name": "stdout",
     "output_type": "stream",
     "text": [
      "Removed 2 duplicate rows.\n"
     ]
    }
   ],
   "source": [
    "# Remove duplicate rows\n",
    "initial_rows = len(df)\n",
    "df.drop_duplicates(inplace=True)\n",
    "print(f\"Removed {initial_rows - len(df)} duplicate rows.\")"
   ]
  },
  {
   "cell_type": "markdown",
   "id": "66b26a31",
   "metadata": {},
   "source": [
    "### 4.2\n",
    "Fill missing values in the total_amount column with the mean using .fillna()"
   ]
  },
  {
   "cell_type": "code",
   "execution_count": 11,
   "id": "2b7cab82",
   "metadata": {},
   "outputs": [
    {
     "name": "stdout",
     "output_type": "stream",
     "text": [
      "Filled missing 'total_amount' values with mean: 503.67\n"
     ]
    }
   ],
   "source": [
    "# Fill missing values in total_amount with the mean\n",
    "mean_amount = df['total_amount'].mean()\n",
    "df['total_amount'] = df['total_amount'].fillna(mean_amount)\n",
    "print(f\"Filled missing 'total_amount' values with mean: {mean_amount:.2f}\")"
   ]
  },
  {
   "cell_type": "markdown",
   "id": "44281278",
   "metadata": {},
   "source": [
    "### 4.3\n",
    "Convert the status column to lowercase and remove extra spaces using.str.lower().str.strip()"
   ]
  },
  {
   "cell_type": "code",
   "execution_count": 12,
   "id": "4cc391c5",
   "metadata": {},
   "outputs": [
    {
     "name": "stdout",
     "output_type": "stream",
     "text": [
      "Cleaned 'status' column (lowercase, stripped whitespace).\n"
     ]
    }
   ],
   "source": [
    "# Convert the status column to lowercase and remove extra spaces\n",
    "df['status'] = df['status'].str.lower().str.strip()\n",
    "print(\"Cleaned 'status' column (lowercase, stripped whitespace).\")"
   ]
  },
  {
   "cell_type": "markdown",
   "id": "cb143a3e",
   "metadata": {},
   "source": [
    "### 4.4\n",
    "Standardize the category column by replacing variations like \"GARDEN\" → \"Garden\" using .str.title()"
   ]
  },
  {
   "cell_type": "code",
   "execution_count": 13,
   "id": "05cd8bfd",
   "metadata": {},
   "outputs": [
    {
     "name": "stdout",
     "output_type": "stream",
     "text": [
      "Standardized 'category' column (Title Case).\n"
     ]
    }
   ],
   "source": [
    "# Standardize the category column to Title Case\n",
    "df['category'] = df['category'].str.title()\n",
    "print(\"Standardized 'category' column (Title Case).\")"
   ]
  },
  {
   "cell_type": "markdown",
   "id": "c17fed15",
   "metadata": {},
   "source": [
    "### 4.5\n",
    "Display the cleaned dataset’s first 5 rows to verify changes"
   ]
  },
  {
   "cell_type": "code",
   "execution_count": 14,
   "id": "56e15d17",
   "metadata": {},
   "outputs": [
    {
     "name": "stdout",
     "output_type": "stream",
     "text": [
      "First 5 Rows of Cleaned Dataset:\n"
     ]
    },
    {
     "data": {
      "text/html": [
       "<div>\n",
       "<style scoped>\n",
       "    .dataframe tbody tr th:only-of-type {\n",
       "        vertical-align: middle;\n",
       "    }\n",
       "\n",
       "    .dataframe tbody tr th {\n",
       "        vertical-align: top;\n",
       "    }\n",
       "\n",
       "    .dataframe thead th {\n",
       "        text-align: right;\n",
       "    }\n",
       "</style>\n",
       "<table border=\"1\" class=\"dataframe\">\n",
       "  <thead>\n",
       "    <tr style=\"text-align: right;\">\n",
       "      <th></th>\n",
       "      <th>order_id</th>\n",
       "      <th>customer_name</th>\n",
       "      <th>order_date</th>\n",
       "      <th>total_amount</th>\n",
       "      <th>status</th>\n",
       "      <th>category</th>\n",
       "      <th>region</th>\n",
       "      <th>priority</th>\n",
       "    </tr>\n",
       "  </thead>\n",
       "  <tbody>\n",
       "    <tr>\n",
       "      <th>0</th>\n",
       "      <td>1000</td>\n",
       "      <td>Grace Lee</td>\n",
       "      <td>2022-12-27</td>\n",
       "      <td>290.94</td>\n",
       "      <td>shipped</td>\n",
       "      <td>Furniture</td>\n",
       "      <td>North</td>\n",
       "      <td>Medium</td>\n",
       "    </tr>\n",
       "    <tr>\n",
       "      <th>1</th>\n",
       "      <td>1001</td>\n",
       "      <td>David Wilson</td>\n",
       "      <td>2022-10-13</td>\n",
       "      <td>369.45</td>\n",
       "      <td>pending</td>\n",
       "      <td>Furniture</td>\n",
       "      <td>North</td>\n",
       "      <td>Low</td>\n",
       "    </tr>\n",
       "    <tr>\n",
       "      <th>2</th>\n",
       "      <td>1002</td>\n",
       "      <td>Henry Martin</td>\n",
       "      <td>2022-09-30</td>\n",
       "      <td>649.46</td>\n",
       "      <td>pending</td>\n",
       "      <td>Furniture</td>\n",
       "      <td>West</td>\n",
       "      <td>Low</td>\n",
       "    </tr>\n",
       "    <tr>\n",
       "      <th>3</th>\n",
       "      <td>1003</td>\n",
       "      <td>Emma Davis</td>\n",
       "      <td>2023-01-04</td>\n",
       "      <td>575.07</td>\n",
       "      <td>pending</td>\n",
       "      <td>Garden</td>\n",
       "      <td>East</td>\n",
       "      <td>Low</td>\n",
       "    </tr>\n",
       "    <tr>\n",
       "      <th>4</th>\n",
       "      <td>1004</td>\n",
       "      <td>Grace Lee</td>\n",
       "      <td>2022-03-03</td>\n",
       "      <td>362.54</td>\n",
       "      <td>shipped</td>\n",
       "      <td>Electronics</td>\n",
       "      <td>South</td>\n",
       "      <td>High</td>\n",
       "    </tr>\n",
       "  </tbody>\n",
       "</table>\n",
       "</div>"
      ],
      "text/plain": [
       "   order_id customer_name  order_date  total_amount   status     category  \\\n",
       "0      1000     Grace Lee  2022-12-27        290.94  shipped    Furniture   \n",
       "1      1001  David Wilson  2022-10-13        369.45  pending    Furniture   \n",
       "2      1002  Henry Martin  2022-09-30        649.46  pending    Furniture   \n",
       "3      1003    Emma Davis  2023-01-04        575.07  pending       Garden   \n",
       "4      1004     Grace Lee  2022-03-03        362.54  shipped  Electronics   \n",
       "\n",
       "  region priority  \n",
       "0  North   Medium  \n",
       "1  North      Low  \n",
       "2   West      Low  \n",
       "3   East      Low  \n",
       "4  South     High  "
      ]
     },
     "metadata": {},
     "output_type": "display_data"
    }
   ],
   "source": [
    "# Display the cleaned dataframe\n",
    "df_cleaned = df.copy()\n",
    "print(\"First 5 Rows of Cleaned Dataset:\")\n",
    "display(df_cleaned.head(5))"
   ]
  },
  {
   "cell_type": "markdown",
   "id": "b273dc7a",
   "metadata": {},
   "source": [
    "<a id=\"task5\"></a>\n",
    "## Task 5: Data Type Conversions & Transformations\n",
    "**Objective:** Convert data types and apply transformations.\n",
    "\n",
    "1. [Convert the total_amount column (which may be stored as object) to a float using pd.to_numeric()](#5.1)  \n",
    "2. [Convert the order_date column to datetime format using pd.to_datetime()](#5.2)  \n",
    "3. [Extract the year from order_date into a new column called order_year using.dt.year](#5.3)  \n",
    "4. [Encode the status column using One-Hot Encoding (pd.get_dummies())](#5.4)\n",
    "5. [Label encode the priority column using LabelEncoder from sklearn](#5.5) "
   ]
  },
  {
   "cell_type": "markdown",
   "id": "ca359660",
   "metadata": {},
   "source": [
    "### 5.1\n",
    "Convert the total_amount column (which may be stored as object) to a float using pd.to_numeric()"
   ]
  },
  {
   "cell_type": "code",
   "execution_count": 15,
   "id": "e720131c",
   "metadata": {},
   "outputs": [
    {
     "name": "stdout",
     "output_type": "stream",
     "text": [
      "Converted 'total_amount' to numeric (float).\n"
     ]
    }
   ],
   "source": [
    "# Convert total_amount column to a numeric (float) type\n",
    "df_cleaned['total_amount'] = pd.to_numeric(df_cleaned['total_amount'])\n",
    "print(\"Converted 'total_amount' to numeric (float).\")"
   ]
  },
  {
   "cell_type": "markdown",
   "id": "ca431924",
   "metadata": {},
   "source": [
    "### 5.2\n",
    "Convert the order_date column to datetime format using pd.to_datetime()"
   ]
  },
  {
   "cell_type": "code",
   "execution_count": 16,
   "id": "be96da72",
   "metadata": {},
   "outputs": [
    {
     "name": "stdout",
     "output_type": "stream",
     "text": [
      "Converted 'order_date' to datetime format.\n"
     ]
    }
   ],
   "source": [
    "# Convert order_date column to datetime format\n",
    "df_cleaned['order_date'] = pd.to_datetime(df_cleaned['order_date'])\n",
    "print(\"Converted 'order_date' to datetime format.\")"
   ]
  },
  {
   "cell_type": "markdown",
   "id": "d0025698",
   "metadata": {},
   "source": [
    "### 5.3\n",
    "Extract the year from order_date into a new column called order_year using.dt.year"
   ]
  },
  {
   "cell_type": "code",
   "execution_count": 17,
   "id": "cd8341e8",
   "metadata": {},
   "outputs": [
    {
     "name": "stdout",
     "output_type": "stream",
     "text": [
      "Created 'order_year' column.\n"
     ]
    }
   ],
   "source": [
    "# Extract the year from order_date into a new column\n",
    "df_cleaned['order_year'] = df_cleaned['order_date'].dt.year\n",
    "print(\"Created 'order_year' column.\")"
   ]
  },
  {
   "cell_type": "markdown",
   "id": "979276dc",
   "metadata": {},
   "source": [
    "### 5.4\n",
    "Encode the status column using One-Hot Encoding (pd.get_dummies())"
   ]
  },
  {
   "cell_type": "code",
   "execution_count": 18,
   "id": "e928431b",
   "metadata": {},
   "outputs": [
    {
     "name": "stdout",
     "output_type": "stream",
     "text": [
      "Applied One-Hot Encoding to 'status' column.\n"
     ]
    }
   ],
   "source": [
    "# Encode the status column using One-Hot Encoding\n",
    "df_cleaned = pd.get_dummies(df_cleaned, columns=['status'], prefix='status')\n",
    "print(\"Applied One-Hot Encoding to 'status' column.\")"
   ]
  },
  {
   "cell_type": "markdown",
   "id": "98a460af",
   "metadata": {},
   "source": [
    "### 5.5\n",
    "Label encode the priority column using LabelEncoder from sklearn"
   ]
  },
  {
   "cell_type": "code",
   "execution_count": 19,
   "id": "57f8cf75",
   "metadata": {},
   "outputs": [
    {
     "name": "stdout",
     "output_type": "stream",
     "text": [
      "Applied Label Encoding to 'priority' column.\n"
     ]
    }
   ],
   "source": [
    "# Import LabelEncoder\n",
    "from sklearn.preprocessing import LabelEncoder\n",
    "\n",
    "# Apply Label Encoding to the priority column\n",
    "df_cleaned['priority_encoded'] = LabelEncoder().fit_transform(df_cleaned['priority'])\n",
    "print(\"Applied Label Encoding to 'priority' column.\")"
   ]
  },
  {
   "cell_type": "markdown",
   "id": "0db5959d",
   "metadata": {},
   "source": [
    "<a id=\"task6\"></a>\n",
    "## Final Dataframe"
   ]
  },
  {
   "cell_type": "code",
   "execution_count": 20,
   "id": "1c2360c6",
   "metadata": {},
   "outputs": [
    {
     "name": "stdout",
     "output_type": "stream",
     "text": [
      "First 30 Rows of Final Cleaned Dataset:\n"
     ]
    },
    {
     "data": {
      "text/html": [
       "<div>\n",
       "<style scoped>\n",
       "    .dataframe tbody tr th:only-of-type {\n",
       "        vertical-align: middle;\n",
       "    }\n",
       "\n",
       "    .dataframe tbody tr th {\n",
       "        vertical-align: top;\n",
       "    }\n",
       "\n",
       "    .dataframe thead th {\n",
       "        text-align: right;\n",
       "    }\n",
       "</style>\n",
       "<table border=\"1\" class=\"dataframe\">\n",
       "  <thead>\n",
       "    <tr style=\"text-align: right;\">\n",
       "      <th></th>\n",
       "      <th>order_id</th>\n",
       "      <th>customer_name</th>\n",
       "      <th>order_date</th>\n",
       "      <th>total_amount</th>\n",
       "      <th>category</th>\n",
       "      <th>region</th>\n",
       "      <th>priority</th>\n",
       "      <th>order_year</th>\n",
       "      <th>status_cancelled</th>\n",
       "      <th>status_pending</th>\n",
       "      <th>status_shipped</th>\n",
       "      <th>priority_encoded</th>\n",
       "    </tr>\n",
       "  </thead>\n",
       "  <tbody>\n",
       "    <tr>\n",
       "      <th>0</th>\n",
       "      <td>1000</td>\n",
       "      <td>Grace Lee</td>\n",
       "      <td>2022-12-27</td>\n",
       "      <td>290.940000</td>\n",
       "      <td>Furniture</td>\n",
       "      <td>North</td>\n",
       "      <td>Medium</td>\n",
       "      <td>2022</td>\n",
       "      <td>False</td>\n",
       "      <td>False</td>\n",
       "      <td>True</td>\n",
       "      <td>2</td>\n",
       "    </tr>\n",
       "    <tr>\n",
       "      <th>1</th>\n",
       "      <td>1001</td>\n",
       "      <td>David Wilson</td>\n",
       "      <td>2022-10-13</td>\n",
       "      <td>369.450000</td>\n",
       "      <td>Furniture</td>\n",
       "      <td>North</td>\n",
       "      <td>Low</td>\n",
       "      <td>2022</td>\n",
       "      <td>False</td>\n",
       "      <td>True</td>\n",
       "      <td>False</td>\n",
       "      <td>1</td>\n",
       "    </tr>\n",
       "    <tr>\n",
       "      <th>2</th>\n",
       "      <td>1002</td>\n",
       "      <td>Henry Martin</td>\n",
       "      <td>2022-09-30</td>\n",
       "      <td>649.460000</td>\n",
       "      <td>Furniture</td>\n",
       "      <td>West</td>\n",
       "      <td>Low</td>\n",
       "      <td>2022</td>\n",
       "      <td>False</td>\n",
       "      <td>True</td>\n",
       "      <td>False</td>\n",
       "      <td>1</td>\n",
       "    </tr>\n",
       "    <tr>\n",
       "      <th>3</th>\n",
       "      <td>1003</td>\n",
       "      <td>Emma Davis</td>\n",
       "      <td>2023-01-04</td>\n",
       "      <td>575.070000</td>\n",
       "      <td>Garden</td>\n",
       "      <td>East</td>\n",
       "      <td>Low</td>\n",
       "      <td>2023</td>\n",
       "      <td>False</td>\n",
       "      <td>True</td>\n",
       "      <td>False</td>\n",
       "      <td>1</td>\n",
       "    </tr>\n",
       "    <tr>\n",
       "      <th>4</th>\n",
       "      <td>1004</td>\n",
       "      <td>Grace Lee</td>\n",
       "      <td>2022-03-03</td>\n",
       "      <td>362.540000</td>\n",
       "      <td>Electronics</td>\n",
       "      <td>South</td>\n",
       "      <td>High</td>\n",
       "      <td>2022</td>\n",
       "      <td>False</td>\n",
       "      <td>False</td>\n",
       "      <td>True</td>\n",
       "      <td>0</td>\n",
       "    </tr>\n",
       "    <tr>\n",
       "      <th>5</th>\n",
       "      <td>1005</td>\n",
       "      <td>Jack Harris</td>\n",
       "      <td>2022-03-25</td>\n",
       "      <td>986.650000</td>\n",
       "      <td>Garden</td>\n",
       "      <td>East</td>\n",
       "      <td>Medium</td>\n",
       "      <td>2022</td>\n",
       "      <td>False</td>\n",
       "      <td>False</td>\n",
       "      <td>True</td>\n",
       "      <td>2</td>\n",
       "    </tr>\n",
       "    <tr>\n",
       "      <th>6</th>\n",
       "      <td>1006</td>\n",
       "      <td>Charlie Brown</td>\n",
       "      <td>2023-01-03</td>\n",
       "      <td>609.720000</td>\n",
       "      <td>Electronics</td>\n",
       "      <td>East</td>\n",
       "      <td>Low</td>\n",
       "      <td>2023</td>\n",
       "      <td>False</td>\n",
       "      <td>True</td>\n",
       "      <td>False</td>\n",
       "      <td>1</td>\n",
       "    </tr>\n",
       "    <tr>\n",
       "      <th>7</th>\n",
       "      <td>1007</td>\n",
       "      <td>Grace Lee</td>\n",
       "      <td>2022-08-05</td>\n",
       "      <td>244.850000</td>\n",
       "      <td>Electronics</td>\n",
       "      <td>East</td>\n",
       "      <td>Medium</td>\n",
       "      <td>2022</td>\n",
       "      <td>False</td>\n",
       "      <td>True</td>\n",
       "      <td>False</td>\n",
       "      <td>2</td>\n",
       "    </tr>\n",
       "    <tr>\n",
       "      <th>8</th>\n",
       "      <td>1008</td>\n",
       "      <td>Henry Martin</td>\n",
       "      <td>2022-12-08</td>\n",
       "      <td>110.760000</td>\n",
       "      <td>Electronics</td>\n",
       "      <td>North</td>\n",
       "      <td>Medium</td>\n",
       "      <td>2022</td>\n",
       "      <td>False</td>\n",
       "      <td>True</td>\n",
       "      <td>False</td>\n",
       "      <td>2</td>\n",
       "    </tr>\n",
       "    <tr>\n",
       "      <th>9</th>\n",
       "      <td>1009</td>\n",
       "      <td>Emma Davis</td>\n",
       "      <td>2023-02-01</td>\n",
       "      <td>161.330000</td>\n",
       "      <td>Electronics</td>\n",
       "      <td>West</td>\n",
       "      <td>Low</td>\n",
       "      <td>2023</td>\n",
       "      <td>False</td>\n",
       "      <td>False</td>\n",
       "      <td>True</td>\n",
       "      <td>1</td>\n",
       "    </tr>\n",
       "    <tr>\n",
       "      <th>10</th>\n",
       "      <td>1010</td>\n",
       "      <td>David Wilson</td>\n",
       "      <td>2022-07-06</td>\n",
       "      <td>253.500000</td>\n",
       "      <td>Electronics</td>\n",
       "      <td>North</td>\n",
       "      <td>Low</td>\n",
       "      <td>2022</td>\n",
       "      <td>False</td>\n",
       "      <td>False</td>\n",
       "      <td>True</td>\n",
       "      <td>1</td>\n",
       "    </tr>\n",
       "    <tr>\n",
       "      <th>11</th>\n",
       "      <td>1011</td>\n",
       "      <td>Henry Martin</td>\n",
       "      <td>2022-01-19</td>\n",
       "      <td>169.070000</td>\n",
       "      <td>Garden</td>\n",
       "      <td>West</td>\n",
       "      <td>Medium</td>\n",
       "      <td>2022</td>\n",
       "      <td>True</td>\n",
       "      <td>False</td>\n",
       "      <td>False</td>\n",
       "      <td>2</td>\n",
       "    </tr>\n",
       "    <tr>\n",
       "      <th>12</th>\n",
       "      <td>1012</td>\n",
       "      <td>Henry Martin</td>\n",
       "      <td>2022-06-26</td>\n",
       "      <td>194.700000</td>\n",
       "      <td>Furniture</td>\n",
       "      <td>South</td>\n",
       "      <td>Low</td>\n",
       "      <td>2022</td>\n",
       "      <td>True</td>\n",
       "      <td>False</td>\n",
       "      <td>False</td>\n",
       "      <td>1</td>\n",
       "    </tr>\n",
       "    <tr>\n",
       "      <th>13</th>\n",
       "      <td>1013</td>\n",
       "      <td>Charlie Brown</td>\n",
       "      <td>2022-04-10</td>\n",
       "      <td>292.240000</td>\n",
       "      <td>Garden</td>\n",
       "      <td>South</td>\n",
       "      <td>Medium</td>\n",
       "      <td>2022</td>\n",
       "      <td>True</td>\n",
       "      <td>False</td>\n",
       "      <td>False</td>\n",
       "      <td>2</td>\n",
       "    </tr>\n",
       "    <tr>\n",
       "      <th>14</th>\n",
       "      <td>1014</td>\n",
       "      <td>Frank Thomas</td>\n",
       "      <td>2023-01-31</td>\n",
       "      <td>181.640000</td>\n",
       "      <td>Electronics</td>\n",
       "      <td>East</td>\n",
       "      <td>Medium</td>\n",
       "      <td>2023</td>\n",
       "      <td>False</td>\n",
       "      <td>True</td>\n",
       "      <td>False</td>\n",
       "      <td>2</td>\n",
       "    </tr>\n",
       "    <tr>\n",
       "      <th>15</th>\n",
       "      <td>1015</td>\n",
       "      <td>Emma Davis</td>\n",
       "      <td>2023-03-21</td>\n",
       "      <td>503.670833</td>\n",
       "      <td>Electronics</td>\n",
       "      <td>West</td>\n",
       "      <td>Low</td>\n",
       "      <td>2023</td>\n",
       "      <td>False</td>\n",
       "      <td>False</td>\n",
       "      <td>True</td>\n",
       "      <td>1</td>\n",
       "    </tr>\n",
       "    <tr>\n",
       "      <th>16</th>\n",
       "      <td>1016</td>\n",
       "      <td>Bob Johnson</td>\n",
       "      <td>2022-08-21</td>\n",
       "      <td>89.430000</td>\n",
       "      <td>Electronics</td>\n",
       "      <td>West</td>\n",
       "      <td>High</td>\n",
       "      <td>2022</td>\n",
       "      <td>True</td>\n",
       "      <td>False</td>\n",
       "      <td>False</td>\n",
       "      <td>0</td>\n",
       "    </tr>\n",
       "    <tr>\n",
       "      <th>17</th>\n",
       "      <td>1017</td>\n",
       "      <td>Henry Martin</td>\n",
       "      <td>2023-02-07</td>\n",
       "      <td>529.270000</td>\n",
       "      <td>Furniture</td>\n",
       "      <td>West</td>\n",
       "      <td>Low</td>\n",
       "      <td>2023</td>\n",
       "      <td>True</td>\n",
       "      <td>False</td>\n",
       "      <td>False</td>\n",
       "      <td>1</td>\n",
       "    </tr>\n",
       "    <tr>\n",
       "      <th>18</th>\n",
       "      <td>1018</td>\n",
       "      <td>Frank Thomas</td>\n",
       "      <td>2022-03-17</td>\n",
       "      <td>416.290000</td>\n",
       "      <td>Garden</td>\n",
       "      <td>East</td>\n",
       "      <td>High</td>\n",
       "      <td>2022</td>\n",
       "      <td>False</td>\n",
       "      <td>True</td>\n",
       "      <td>False</td>\n",
       "      <td>0</td>\n",
       "    </tr>\n",
       "    <tr>\n",
       "      <th>19</th>\n",
       "      <td>1019</td>\n",
       "      <td>Bob Johnson</td>\n",
       "      <td>2022-09-22</td>\n",
       "      <td>982.550000</td>\n",
       "      <td>Furniture</td>\n",
       "      <td>East</td>\n",
       "      <td>Medium</td>\n",
       "      <td>2022</td>\n",
       "      <td>False</td>\n",
       "      <td>True</td>\n",
       "      <td>False</td>\n",
       "      <td>2</td>\n",
       "    </tr>\n",
       "    <tr>\n",
       "      <th>20</th>\n",
       "      <td>1020</td>\n",
       "      <td>Emma Davis</td>\n",
       "      <td>2023-03-31</td>\n",
       "      <td>120.920000</td>\n",
       "      <td>Garden</td>\n",
       "      <td>South</td>\n",
       "      <td>Medium</td>\n",
       "      <td>2023</td>\n",
       "      <td>True</td>\n",
       "      <td>False</td>\n",
       "      <td>False</td>\n",
       "      <td>2</td>\n",
       "    </tr>\n",
       "    <tr>\n",
       "      <th>21</th>\n",
       "      <td>1021</td>\n",
       "      <td>Alice Smith</td>\n",
       "      <td>2022-10-11</td>\n",
       "      <td>403.880000</td>\n",
       "      <td>Furniture</td>\n",
       "      <td>North</td>\n",
       "      <td>High</td>\n",
       "      <td>2022</td>\n",
       "      <td>False</td>\n",
       "      <td>True</td>\n",
       "      <td>False</td>\n",
       "      <td>0</td>\n",
       "    </tr>\n",
       "    <tr>\n",
       "      <th>22</th>\n",
       "      <td>1022</td>\n",
       "      <td>Jack Harris</td>\n",
       "      <td>2022-07-25</td>\n",
       "      <td>969.780000</td>\n",
       "      <td>Garden</td>\n",
       "      <td>West</td>\n",
       "      <td>Medium</td>\n",
       "      <td>2022</td>\n",
       "      <td>False</td>\n",
       "      <td>False</td>\n",
       "      <td>True</td>\n",
       "      <td>2</td>\n",
       "    </tr>\n",
       "    <tr>\n",
       "      <th>23</th>\n",
       "      <td>1023</td>\n",
       "      <td>Frank Thomas</td>\n",
       "      <td>2022-08-11</td>\n",
       "      <td>866.850000</td>\n",
       "      <td>Garden</td>\n",
       "      <td>West</td>\n",
       "      <td>High</td>\n",
       "      <td>2022</td>\n",
       "      <td>False</td>\n",
       "      <td>False</td>\n",
       "      <td>True</td>\n",
       "      <td>0</td>\n",
       "    </tr>\n",
       "    <tr>\n",
       "      <th>24</th>\n",
       "      <td>1024</td>\n",
       "      <td>Isabella White</td>\n",
       "      <td>2023-01-19</td>\n",
       "      <td>818.900000</td>\n",
       "      <td>Furniture</td>\n",
       "      <td>North</td>\n",
       "      <td>High</td>\n",
       "      <td>2023</td>\n",
       "      <td>False</td>\n",
       "      <td>False</td>\n",
       "      <td>True</td>\n",
       "      <td>0</td>\n",
       "    </tr>\n",
       "    <tr>\n",
       "      <th>25</th>\n",
       "      <td>1025</td>\n",
       "      <td>Alice Smith</td>\n",
       "      <td>2022-02-21</td>\n",
       "      <td>265.320000</td>\n",
       "      <td>Electronics</td>\n",
       "      <td>West</td>\n",
       "      <td>Medium</td>\n",
       "      <td>2022</td>\n",
       "      <td>True</td>\n",
       "      <td>False</td>\n",
       "      <td>False</td>\n",
       "      <td>2</td>\n",
       "    </tr>\n",
       "    <tr>\n",
       "      <th>26</th>\n",
       "      <td>1026</td>\n",
       "      <td>Jack Harris</td>\n",
       "      <td>2022-12-05</td>\n",
       "      <td>179.180000</td>\n",
       "      <td>Furniture</td>\n",
       "      <td>East</td>\n",
       "      <td>High</td>\n",
       "      <td>2022</td>\n",
       "      <td>True</td>\n",
       "      <td>False</td>\n",
       "      <td>False</td>\n",
       "      <td>0</td>\n",
       "    </tr>\n",
       "    <tr>\n",
       "      <th>27</th>\n",
       "      <td>1027</td>\n",
       "      <td>Charlie Brown</td>\n",
       "      <td>2023-01-02</td>\n",
       "      <td>671.960000</td>\n",
       "      <td>Garden</td>\n",
       "      <td>East</td>\n",
       "      <td>Low</td>\n",
       "      <td>2023</td>\n",
       "      <td>False</td>\n",
       "      <td>False</td>\n",
       "      <td>True</td>\n",
       "      <td>1</td>\n",
       "    </tr>\n",
       "    <tr>\n",
       "      <th>28</th>\n",
       "      <td>1028</td>\n",
       "      <td>Grace Lee</td>\n",
       "      <td>2022-05-24</td>\n",
       "      <td>930.080000</td>\n",
       "      <td>Electronics</td>\n",
       "      <td>West</td>\n",
       "      <td>Low</td>\n",
       "      <td>2022</td>\n",
       "      <td>False</td>\n",
       "      <td>True</td>\n",
       "      <td>False</td>\n",
       "      <td>1</td>\n",
       "    </tr>\n",
       "    <tr>\n",
       "      <th>29</th>\n",
       "      <td>1029</td>\n",
       "      <td>David Wilson</td>\n",
       "      <td>2023-01-08</td>\n",
       "      <td>561.200000</td>\n",
       "      <td>Furniture</td>\n",
       "      <td>East</td>\n",
       "      <td>Medium</td>\n",
       "      <td>2023</td>\n",
       "      <td>False</td>\n",
       "      <td>True</td>\n",
       "      <td>False</td>\n",
       "      <td>2</td>\n",
       "    </tr>\n",
       "  </tbody>\n",
       "</table>\n",
       "</div>"
      ],
      "text/plain": [
       "    order_id   customer_name order_date  total_amount     category region  \\\n",
       "0       1000       Grace Lee 2022-12-27    290.940000    Furniture  North   \n",
       "1       1001    David Wilson 2022-10-13    369.450000    Furniture  North   \n",
       "2       1002    Henry Martin 2022-09-30    649.460000    Furniture   West   \n",
       "3       1003      Emma Davis 2023-01-04    575.070000       Garden   East   \n",
       "4       1004       Grace Lee 2022-03-03    362.540000  Electronics  South   \n",
       "5       1005     Jack Harris 2022-03-25    986.650000       Garden   East   \n",
       "6       1006   Charlie Brown 2023-01-03    609.720000  Electronics   East   \n",
       "7       1007       Grace Lee 2022-08-05    244.850000  Electronics   East   \n",
       "8       1008    Henry Martin 2022-12-08    110.760000  Electronics  North   \n",
       "9       1009      Emma Davis 2023-02-01    161.330000  Electronics   West   \n",
       "10      1010    David Wilson 2022-07-06    253.500000  Electronics  North   \n",
       "11      1011    Henry Martin 2022-01-19    169.070000       Garden   West   \n",
       "12      1012    Henry Martin 2022-06-26    194.700000    Furniture  South   \n",
       "13      1013   Charlie Brown 2022-04-10    292.240000       Garden  South   \n",
       "14      1014    Frank Thomas 2023-01-31    181.640000  Electronics   East   \n",
       "15      1015      Emma Davis 2023-03-21    503.670833  Electronics   West   \n",
       "16      1016     Bob Johnson 2022-08-21     89.430000  Electronics   West   \n",
       "17      1017    Henry Martin 2023-02-07    529.270000    Furniture   West   \n",
       "18      1018    Frank Thomas 2022-03-17    416.290000       Garden   East   \n",
       "19      1019     Bob Johnson 2022-09-22    982.550000    Furniture   East   \n",
       "20      1020      Emma Davis 2023-03-31    120.920000       Garden  South   \n",
       "21      1021     Alice Smith 2022-10-11    403.880000    Furniture  North   \n",
       "22      1022     Jack Harris 2022-07-25    969.780000       Garden   West   \n",
       "23      1023    Frank Thomas 2022-08-11    866.850000       Garden   West   \n",
       "24      1024  Isabella White 2023-01-19    818.900000    Furniture  North   \n",
       "25      1025     Alice Smith 2022-02-21    265.320000  Electronics   West   \n",
       "26      1026     Jack Harris 2022-12-05    179.180000    Furniture   East   \n",
       "27      1027   Charlie Brown 2023-01-02    671.960000       Garden   East   \n",
       "28      1028       Grace Lee 2022-05-24    930.080000  Electronics   West   \n",
       "29      1029    David Wilson 2023-01-08    561.200000    Furniture   East   \n",
       "\n",
       "   priority  order_year  status_cancelled  status_pending  status_shipped  \\\n",
       "0    Medium        2022             False           False            True   \n",
       "1       Low        2022             False            True           False   \n",
       "2       Low        2022             False            True           False   \n",
       "3       Low        2023             False            True           False   \n",
       "4      High        2022             False           False            True   \n",
       "5    Medium        2022             False           False            True   \n",
       "6       Low        2023             False            True           False   \n",
       "7    Medium        2022             False            True           False   \n",
       "8    Medium        2022             False            True           False   \n",
       "9       Low        2023             False           False            True   \n",
       "10      Low        2022             False           False            True   \n",
       "11   Medium        2022              True           False           False   \n",
       "12      Low        2022              True           False           False   \n",
       "13   Medium        2022              True           False           False   \n",
       "14   Medium        2023             False            True           False   \n",
       "15      Low        2023             False           False            True   \n",
       "16     High        2022              True           False           False   \n",
       "17      Low        2023              True           False           False   \n",
       "18     High        2022             False            True           False   \n",
       "19   Medium        2022             False            True           False   \n",
       "20   Medium        2023              True           False           False   \n",
       "21     High        2022             False            True           False   \n",
       "22   Medium        2022             False           False            True   \n",
       "23     High        2022             False           False            True   \n",
       "24     High        2023             False           False            True   \n",
       "25   Medium        2022              True           False           False   \n",
       "26     High        2022              True           False           False   \n",
       "27      Low        2023             False           False            True   \n",
       "28      Low        2022             False            True           False   \n",
       "29   Medium        2023             False            True           False   \n",
       "\n",
       "    priority_encoded  \n",
       "0                  2  \n",
       "1                  1  \n",
       "2                  1  \n",
       "3                  1  \n",
       "4                  0  \n",
       "5                  2  \n",
       "6                  1  \n",
       "7                  2  \n",
       "8                  2  \n",
       "9                  1  \n",
       "10                 1  \n",
       "11                 2  \n",
       "12                 1  \n",
       "13                 2  \n",
       "14                 2  \n",
       "15                 1  \n",
       "16                 0  \n",
       "17                 1  \n",
       "18                 0  \n",
       "19                 2  \n",
       "20                 2  \n",
       "21                 0  \n",
       "22                 2  \n",
       "23                 0  \n",
       "24                 0  \n",
       "25                 2  \n",
       "26                 0  \n",
       "27                 1  \n",
       "28                 1  \n",
       "29                 2  "
      ]
     },
     "metadata": {},
     "output_type": "display_data"
    },
    {
     "name": "stdout",
     "output_type": "stream",
     "text": [
      "\n",
      "Final Dataset Information:\n",
      "<class 'pandas.core.frame.DataFrame'>\n",
      "Index: 500 entries, 0 to 501\n",
      "Data columns (total 12 columns):\n",
      " #   Column            Non-Null Count  Dtype         \n",
      "---  ------            --------------  -----         \n",
      " 0   order_id          500 non-null    int64         \n",
      " 1   customer_name     500 non-null    object        \n",
      " 2   order_date        500 non-null    datetime64[ns]\n",
      " 3   total_amount      500 non-null    float64       \n",
      " 4   category          500 non-null    object        \n",
      " 5   region            500 non-null    object        \n",
      " 6   priority          500 non-null    object        \n",
      " 7   order_year        500 non-null    int32         \n",
      " 8   status_cancelled  500 non-null    bool          \n",
      " 9   status_pending    500 non-null    bool          \n",
      " 10  status_shipped    500 non-null    bool          \n",
      " 11  priority_encoded  500 non-null    int32         \n",
      "dtypes: bool(3), datetime64[ns](1), float64(1), int32(2), int64(1), object(4)\n",
      "memory usage: 36.6+ KB\n"
     ]
    }
   ],
   "source": [
    "# Display final dataframe head to show all transformations\n",
    "print(\"First 30 Rows of Final Cleaned Dataset:\")\n",
    "display(df_cleaned.head(30))\n",
    "\n",
    "print(\"\\nFinal Dataset Information:\")\n",
    "df_cleaned.info()"
   ]
  }
 ],
 "metadata": {
  "kernelspec": {
   "display_name": "base",
   "language": "python",
   "name": "python3"
  },
  "language_info": {
   "codemirror_mode": {
    "name": "ipython",
    "version": 3
   },
   "file_extension": ".py",
   "mimetype": "text/x-python",
   "name": "python",
   "nbconvert_exporter": "python",
   "pygments_lexer": "ipython3",
   "version": "3.12.7"
  }
 },
 "nbformat": 4,
 "nbformat_minor": 5
}
